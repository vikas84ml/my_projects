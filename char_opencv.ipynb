{
  "nbformat": 4,
  "nbformat_minor": 0,
  "metadata": {
    "colab": {
      "name": "char_opencv.ipynb",
      "provenance": [],
      "collapsed_sections": []
    },
    "kernelspec": {
      "name": "python3",
      "display_name": "Python 3"
    },
    "accelerator": "GPU"
  },
  "cells": [
    {
      "cell_type": "code",
      "metadata": {
        "id": "PAYWSJvP7SYL",
        "colab_type": "code",
        "outputId": "a18f5e96-95dd-479e-c5b3-1414bc57528e",
        "colab": {
          "base_uri": "https://localhost:8080/",
          "height": 129
        }
      },
      "source": [
        "from google.colab import drive\n",
        "drive.mount('/content/drive')"
      ],
      "execution_count": 0,
      "outputs": [
        {
          "output_type": "stream",
          "text": [
            "Go to this URL in a browser: https://accounts.google.com/o/oauth2/auth?client_id=947318989803-6bn6qk8qdgf4n4g3pfee6491hc0brc4i.apps.googleusercontent.com&redirect_uri=urn%3aietf%3awg%3aoauth%3a2.0%3aoob&response_type=code&scope=email%20https%3a%2f%2fwww.googleapis.com%2fauth%2fdocs.test%20https%3a%2f%2fwww.googleapis.com%2fauth%2fdrive%20https%3a%2f%2fwww.googleapis.com%2fauth%2fdrive.photos.readonly%20https%3a%2f%2fwww.googleapis.com%2fauth%2fpeopleapi.readonly\n",
            "\n",
            "Enter your authorization code:\n",
            "··········\n",
            "Mounted at /content/drive\n"
          ],
          "name": "stdout"
        }
      ]
    },
    {
      "cell_type": "code",
      "metadata": {
        "id": "UyLYqCSP7bRD",
        "colab_type": "code",
        "colab": {}
      },
      "source": [
        "import numpy as np \n",
        "import os\n",
        "for dirname, _, filenames in os.walk('/content/drive/My Drive/A_Z Handwritten Data.csv'):\n",
        "    for filename in filenames:\n",
        "        print(os.path.join(dirname, filename))"
      ],
      "execution_count": 0,
      "outputs": []
    },
    {
      "cell_type": "code",
      "metadata": {
        "id": "cB0nrSxD7irA",
        "colab_type": "code",
        "outputId": "62aaee15-dcf1-4f03-8629-3d33a6e85b99",
        "colab": {
          "base_uri": "https://localhost:8080/",
          "height": 65
        }
      },
      "source": [
        "import matplotlib.pyplot as plt\n",
        "from tensorflow.keras.models import Sequential\n",
        "from tensorflow.keras.layers import Conv2D, MaxPool2D, Dense, Dropout, Flatten\n",
        "import tensorflow.keras as ks\n",
        "%matplotlib inline"
      ],
      "execution_count": 0,
      "outputs": [
        {
          "output_type": "display_data",
          "data": {
            "text/html": [
              "<p style=\"color: red;\">\n",
              "The default version of TensorFlow in Colab will soon switch to TensorFlow 2.x.<br>\n",
              "We recommend you <a href=\"https://www.tensorflow.org/guide/migrate\" target=\"_blank\">upgrade</a> now \n",
              "or ensure your notebook will continue to use TensorFlow 1.x via the <code>%tensorflow_version 1.x</code> magic:\n",
              "<a href=\"https://colab.research.google.com/notebooks/tensorflow_version.ipynb\" target=\"_blank\">more info</a>.</p>\n"
            ],
            "text/plain": [
              "<IPython.core.display.HTML object>"
            ]
          },
          "metadata": {
            "tags": []
          }
        }
      ]
    },
    {
      "cell_type": "code",
      "metadata": {
        "id": "y32x6YI-9gMw",
        "colab_type": "code",
        "colab": {}
      },
      "source": [
        "from sklearn.utils import shuffle\n",
        "from tensorflow.keras.utils import to_categorical\n",
        "#for data extraxtion and preprocessing\n",
        "def Extract(file,splitFact):\n",
        "    print(\"Beginning the extraction process...\")\n",
        "    with open(file,'r') as f:\n",
        "        data = f.read()\n",
        "        data = data.split('\\n')\n",
        "    \n",
        "    x_train = []\n",
        "    y_train = []\n",
        "    x_test = []\n",
        "    y_test = []\n",
        "    \n",
        "    data = shuffle(data)\n",
        "    \n",
        "    l = len(data)\n",
        "    \n",
        "    trainData = int(l * (1-splitFact))\n",
        "    testData = int(l - trainData)\n",
        "    \n",
        "    print(\"Dividing data into {} training and {} testing samples..\".format(trainData,testData))\n",
        "    \n",
        "    for i in range(trainData):\n",
        "        if data[i] != '':\n",
        "            x_train.append(np.array(data[i].split(',')[1:], dtype=np.float32))\n",
        "            y_train.append(np.array(data[i].split(',')[0], dtype=np.int8))\n",
        "\n",
        "    for i in range(testData):\n",
        "        if data[i+trainData] != '':\n",
        "            x_test.append(np.array(data[i+trainData].split(',')[1:], dtype=np.float32))\n",
        "            y_test.append(np.array(data[i+trainData].split(',')[0], dtype=np.int8))\n",
        "            \n",
        "    x_train = np.array(x_train)/255\n",
        "    y_train = to_categorical(np.array(y_train))\n",
        "    x_test = np.array(x_test)/255\n",
        "    y_test = to_categorical(np.array(y_test))\n",
        "    \n",
        "    del data\n",
        "    \n",
        "    return (x_train,y_train),(x_test,y_test)"
      ],
      "execution_count": 0,
      "outputs": []
    },
    {
      "cell_type": "code",
      "metadata": {
        "id": "gdA4t2Qj9lFq",
        "colab_type": "code",
        "outputId": "a8cca212-3538-4b59-a1b7-b6e51571f639",
        "colab": {
          "base_uri": "https://localhost:8080/",
          "height": 54
        }
      },
      "source": [
        "#Extracting data\n",
        "(x_train,y_train),(x_test,y_test) = Extract('/content/drive/My Drive/A_Z Handwritten Data.csv',0.2)\n",
        "\n",
        "x_train = x_train.reshape(len(x_train),28,28,1)\n",
        "x_test = x_test.reshape(len(x_test),28,28,1)"
      ],
      "execution_count": 0,
      "outputs": [
        {
          "output_type": "stream",
          "text": [
            "Beginning the extraction process...\n",
            "Dividing data into 297961 training and 74491 testing samples..\n"
          ],
          "name": "stdout"
        }
      ]
    },
    {
      "cell_type": "code",
      "metadata": {
        "id": "E63RMzqo9qSI",
        "colab_type": "code",
        "colab": {}
      },
      "source": [
        "labels=['A','B','C','D','E','F','G','H','I','J','K','L','M','N','O','P','Q','R','S','T','U','V','W','X','Y','Z']"
      ],
      "execution_count": 0,
      "outputs": []
    },
    {
      "cell_type": "code",
      "metadata": {
        "id": "-pZTMS6X9t82",
        "colab_type": "code",
        "outputId": "6aaec265-c589-48bf-f993-01d96115f249",
        "colab": {
          "base_uri": "https://localhost:8080/",
          "height": 240
        }
      },
      "source": [
        "for i in range(10):\n",
        "    plt.subplot(2,5,i+1)\n",
        "    plt.imshow(x_test[i].reshape(28,28),cmap='binary')\n",
        "    plt.title(labels[np.argmax(y_test[i])])"
      ],
      "execution_count": 0,
      "outputs": [
        {
          "output_type": "display_data",
          "data": {
            "image/png": "[encoded data removed]",
            "text/plain": [
              "<Figure size 432x288 with 10 Axes>"
            ]
          },
          "metadata": {
            "tags": []
          }
        }
      ]
    },
    {
      "cell_type": "code",
      "metadata": {
        "id": "1-f_UBShfQRe",
        "colab_type": "code",
        "outputId": "90b6f7a7-81ba-4a32-d47e-bd2656f7d332",
        "colab": {
          "base_uri": "https://localhost:8080/",
          "height": 495
        }
      },
      "source": [
        "model = Sequential()\n",
        "model.add(Conv2D(filters=16, kernel_size=5, strides=1, padding='same', activation='relu', input_shape=(28, 28, 1), name='conv1'))\n",
        "model.add(MaxPool2D(pool_size=(2, 2,),name='pool1'))\n",
        "model.add(Dropout(0.2,name='dropout1'))\n",
        "model.add(Conv2D(filters=32, kernel_size=2, strides=1, padding='same', activation='relu',name='conv2'))\n",
        "model.add(MaxPool2D(pool_size=(2, 2),name='pool2'))\n",
        "model.add(Flatten(name='flat'))\n",
        "model.add(Dropout(0.1,name='dropout2'))\n",
        "model.add(Dense(128,activation='relu',name='dense'))\n",
        "model.add(Dense(26,activation='softmax',name='res'))\n",
        "\n",
        "model.summary()"
      ],
      "execution_count": 0,
      "outputs": [
        {
          "output_type": "stream",
          "text": [
            "Model: \"sequential_3\"\n",
            "_________________________________________________________________\n",
            "Layer (type)                 Output Shape              Param #   \n",
            "=================================================================\n",
            "conv1 (Conv2D)               (None, 28, 28, 16)        416       \n",
            "_________________________________________________________________\n",
            "pool1 (MaxPooling2D)         (None, 14, 14, 16)        0         \n",
            "_________________________________________________________________\n",
            "dropout1 (Dropout)           (None, 14, 14, 16)        0         \n",
            "_________________________________________________________________\n",
            "conv2 (Conv2D)               (None, 14, 14, 32)        2080      \n",
            "_________________________________________________________________\n",
            "pool2 (MaxPooling2D)         (None, 7, 7, 32)          0         \n",
            "_________________________________________________________________\n",
            "flat (Flatten)               (None, 1568)              0         \n",
            "_________________________________________________________________\n",
            "dropout2 (Dropout)           (None, 1568)              0         \n",
            "_________________________________________________________________\n",
            "dense (Dense)                (None, 128)               200832    \n",
            "_________________________________________________________________\n",
            "res (Dense)                  (None, 26)                3354      \n",
            "=================================================================\n",
            "Total params: 206,682\n",
            "Trainable params: 206,682\n",
            "Non-trainable params: 0\n",
            "_________________________________________________________________\n"
          ],
          "name": "stdout"
        }
      ]
    },
    {
      "cell_type": "code",
      "metadata": {
        "id": "DHLmaPMLfacU",
        "colab_type": "code",
        "colab": {}
      },
      "source": [
        "checkpoint = ks.callbacks.ModelCheckpoint('model.h5',save_best_only=True)\n",
        "model.compile(loss='categorical_crossentropy',optimizer='adam',metrics=['accuracy'])"
      ],
      "execution_count": 0,
      "outputs": []
    },
    {
      "cell_type": "code",
      "metadata": {
        "id": "l2xJS02dfmEl",
        "colab_type": "code",
        "outputId": "fa006c58-7352-46fb-8c40-e8e35002e371",
        "colab": {
          "base_uri": "https://localhost:8080/",
          "height": 770
        }
      },
      "source": [
        "#training..\n",
        "history = model.fit(x_train, y_train, validation_data=(x_test,y_test), epochs=20, batch_size=1024, callbacks=[checkpoint], verbose=1)\n",
        "#history = model.fit(x_train,y_train,epochs = 20 ,validation_data=(x_test,y_test) )\n"
      ],
      "execution_count": 0,
      "outputs": [
        {
          "output_type": "stream",
          "text": [
            "Train on 297960 samples, validate on 74491 samples\n",
            "Epoch 1/20\n",
            "297960/297960 [==============================] - 5s 18us/sample - loss: 0.6195 - acc: 0.8262 - val_loss: 0.1826 - val_acc: 0.9508\n",
            "Epoch 2/20\n",
            "297960/297960 [==============================] - 5s 17us/sample - loss: 0.1670 - acc: 0.9529 - val_loss: 0.1126 - val_acc: 0.9693\n",
            "Epoch 3/20\n",
            "297960/297960 [==============================] - 5s 17us/sample - loss: 0.1223 - acc: 0.9655 - val_loss: 0.0898 - val_acc: 0.9756\n",
            "Epoch 4/20\n",
            "297960/297960 [==============================] - 5s 17us/sample - loss: 0.1025 - acc: 0.9713 - val_loss: 0.0797 - val_acc: 0.9785\n",
            "Epoch 5/20\n",
            "297960/297960 [==============================] - 5s 17us/sample - loss: 0.0895 - acc: 0.9746 - val_loss: 0.0727 - val_acc: 0.9797\n",
            "Epoch 6/20\n",
            "297960/297960 [==============================] - 5s 17us/sample - loss: 0.0811 - acc: 0.9772 - val_loss: 0.0662 - val_acc: 0.9815\n",
            "Epoch 7/20\n",
            "297960/297960 [==============================] - 5s 17us/sample - loss: 0.0736 - acc: 0.9790 - val_loss: 0.0601 - val_acc: 0.9834\n",
            "Epoch 8/20\n",
            "297960/297960 [==============================] - 5s 17us/sample - loss: 0.0688 - acc: 0.9804 - val_loss: 0.0558 - val_acc: 0.9845\n",
            "Epoch 9/20\n",
            "297960/297960 [==============================] - 5s 17us/sample - loss: 0.0642 - acc: 0.9816 - val_loss: 0.0542 - val_acc: 0.9856\n",
            "Epoch 10/20\n",
            "297960/297960 [==============================] - 5s 17us/sample - loss: 0.0602 - acc: 0.9827 - val_loss: 0.0521 - val_acc: 0.9857\n",
            "Epoch 11/20\n",
            "297960/297960 [==============================] - 5s 17us/sample - loss: 0.0569 - acc: 0.9835 - val_loss: 0.0490 - val_acc: 0.9870\n",
            "Epoch 12/20\n",
            "297960/297960 [==============================] - 5s 17us/sample - loss: 0.0538 - acc: 0.9842 - val_loss: 0.0482 - val_acc: 0.9871\n",
            "Epoch 13/20\n",
            "297960/297960 [==============================] - 5s 17us/sample - loss: 0.0506 - acc: 0.9854 - val_loss: 0.0454 - val_acc: 0.9878\n",
            "Epoch 14/20\n",
            "297960/297960 [==============================] - 5s 17us/sample - loss: 0.0487 - acc: 0.9856 - val_loss: 0.0471 - val_acc: 0.9870\n",
            "Epoch 15/20\n",
            "297960/297960 [==============================] - 5s 17us/sample - loss: 0.0466 - acc: 0.9861 - val_loss: 0.0452 - val_acc: 0.9878\n",
            "Epoch 16/20\n",
            "297960/297960 [==============================] - 5s 17us/sample - loss: 0.0436 - acc: 0.9872 - val_loss: 0.0415 - val_acc: 0.9888\n",
            "Epoch 17/20\n",
            "297960/297960 [==============================] - 5s 17us/sample - loss: 0.0421 - acc: 0.9872 - val_loss: 0.0409 - val_acc: 0.9885\n",
            "Epoch 18/20\n",
            "297960/297960 [==============================] - 5s 17us/sample - loss: 0.0400 - acc: 0.9878 - val_loss: 0.0419 - val_acc: 0.9883\n",
            "Epoch 19/20\n",
            "297960/297960 [==============================] - 5s 17us/sample - loss: 0.0389 - acc: 0.9881 - val_loss: 0.0423 - val_acc: 0.9882\n",
            "Epoch 20/20\n",
            "297960/297960 [==============================] - 5s 17us/sample - loss: 0.0376 - acc: 0.9882 - val_loss: 0.0379 - val_acc: 0.9892\n"
          ],
          "name": "stdout"
        }
      ]
    },
    {
      "cell_type": "code",
      "metadata": {
        "id": "iUdDq9Y2L-US",
        "colab_type": "code",
        "colab": {}
      },
      "source": [
        "predictions = model.predict([x_test])"
      ],
      "execution_count": 0,
      "outputs": []
    },
    {
      "cell_type": "code",
      "metadata": {
        "id": "zJgfVFE1fpqr",
        "colab_type": "code",
        "outputId": "7238b269-8817-4cc4-c7d6-de2d42f4b85c",
        "colab": {
          "base_uri": "https://localhost:8080/",
          "height": 313
        }
      },
      "source": [
        "plt.plot(history.history['loss'])\n",
        "plt.plot(history.history['val_loss'])\n",
        "plt.title('Model loss')\n",
        "plt.ylabel('Loss')\n",
        "plt.xlabel('Epoch')\n",
        "plt.legend(['Train', 'Test'], loc='upper left')"
      ],
      "execution_count": 0,
      "outputs": [
        {
          "output_type": "execute_result",
          "data": {
            "text/plain": [
              "<matplotlib.legend.Legend at 0x7f8b53706b00>"
            ]
          },
          "metadata": {
            "tags": []
          },
          "execution_count": 33
        },
        {
          "output_type": "display_data",
          "data": {
            "image/png": "[encoded data removed]",
            "text/plain": [
              "<Figure size 432x288 with 1 Axes>"
            ]
          },
          "metadata": {
            "tags": []
          }
        }
      ]
    },
    {
      "cell_type": "code",
      "metadata": {
        "id": "BBT-H67AMjUy",
        "colab_type": "code",
        "outputId": "2e0792a3-8d2b-484c-9385-4c441ea50372",
        "colab": {
          "base_uri": "https://localhost:8080/",
          "height": 164
        }
      },
      "source": [
        "print(\"Probability for each digit ('A','B','C','D','E','F','G','H','I','J','K','L','M','N','O','P','Q','R','S','T','U','V','W','X','Y','Z')\")\n",
        "predictions[15]"
      ],
      "execution_count": 0,
      "outputs": [
        {
          "output_type": "stream",
          "text": [
            "Probability for each digit (A,B,C,D,E,F,G,H,I,J,K,L,M,N,O,P,Q,R,S,T,U,V,W,X,Y,Z)\n"
          ],
          "name": "stdout"
        },
        {
          "output_type": "execute_result",
          "data": {
            "text/plain": [
              "array([1.35649547e-17, 1.01427804e-13, 4.88655936e-13, 6.48597442e-09,\n",
              "       5.80279360e-15, 3.83712506e-11, 2.01339726e-12, 3.84662744e-12,\n",
              "       1.10873415e-07, 4.49272120e-05, 2.16345900e-11, 7.59482700e-13,\n",
              "       3.79701153e-14, 1.24562476e-08, 2.98487990e-08, 4.48979465e-11,\n",
              "       3.18656742e-14, 5.88023147e-14, 2.36165319e-12, 9.99954820e-01,\n",
              "       1.02042002e-08, 1.34124318e-11, 9.21696497e-10, 4.44445203e-10,\n",
              "       1.19164170e-07, 2.52556851e-12], dtype=float32)"
            ]
          },
          "metadata": {
            "tags": []
          },
          "execution_count": 53
        }
      ]
    },
    {
      "cell_type": "code",
      "metadata": {
        "id": "Qts830krgrCt",
        "colab_type": "code",
        "outputId": "d5df6b15-01f7-4448-ab70-ff0a5b580244",
        "colab": {
          "base_uri": "https://localhost:8080/",
          "height": 35
        }
      },
      "source": [
        "print(np.argmax(predictions[15]))"
      ],
      "execution_count": 0,
      "outputs": [
        {
          "output_type": "stream",
          "text": [
            "19\n"
          ],
          "name": "stdout"
        }
      ]
    },
    {
      "cell_type": "code",
      "metadata": {
        "id": "3T4hrY7ngHxV",
        "colab_type": "code",
        "outputId": "28cf64ec-e362-46b2-ca84-578a3e897907",
        "colab": {
          "base_uri": "https://localhost:8080/",
          "height": 54
        }
      },
      "source": [
        "val_loss, val_acc = model.evaluate(x_test, y_test)\n",
        "print(val_loss, val_acc)"
      ],
      "execution_count": 0,
      "outputs": [
        {
          "output_type": "stream",
          "text": [
            "74491/74491 [==============================] - 5s 65us/sample - loss: 0.0379 - acc: 0.9892\n",
            "0.037887676574984534 0.9892336\n"
          ],
          "name": "stdout"
        }
      ]
    },
    {
      "cell_type": "code",
      "metadata": {
        "id": "A102hZzlgfVz",
        "colab_type": "code",
        "colab": {}
      },
      "source": [
        "\n",
        "predicted = model.predict(x_test[i+5].reshape(1,28,28,1))"
      ],
      "execution_count": 0,
      "outputs": []
    },
    {
      "cell_type": "code",
      "metadata": {
        "id": "O8T8SiNKgyvr",
        "colab_type": "code",
        "outputId": "ebc8ef35-d132-499a-b0ef-b10d087e6c79",
        "colab": {
          "base_uri": "https://localhost:8080/",
          "height": 146
        }
      },
      "source": [
        "print(predicted)"
      ],
      "execution_count": 0,
      "outputs": [
        {
          "output_type": "stream",
          "text": [
            "[[2.00456340e-15 3.28632055e-16 1.46369801e-14 7.30048869e-11\n",
            "  3.90798437e-14 4.88411438e-12 1.02511216e-16 4.37172520e-12\n",
            "  2.15108875e-10 4.14109263e-06 1.26317427e-13 4.94979491e-14\n",
            "  1.02717863e-13 2.84335133e-09 1.22891253e-09 1.07572996e-11\n",
            "  7.91382594e-21 1.36242783e-15 5.60963548e-13 9.99995589e-01\n",
            "  4.96741259e-11 2.29845288e-12 2.09137655e-12 1.69798106e-10\n",
            "  2.46453226e-07 8.90047966e-11]]\n"
          ],
          "name": "stdout"
        }
      ]
    },
    {
      "cell_type": "code",
      "metadata": {
        "id": "8-ptlFhZiT8S",
        "colab_type": "code",
        "outputId": "b3efb1f4-0d3a-4a3d-b53d-74e66bea3bf5",
        "colab": {
          "base_uri": "https://localhost:8080/",
          "height": 54
        }
      },
      "source": [
        "model = ks.models.load_model('model.h5')\n",
        "acc = model.evaluate(x_test,y_test)\n",
        "print(f\"Final test loss : {acc[0]}, final test accuracy : {acc[1]}\")"
      ],
      "execution_count": 0,
      "outputs": [
        {
          "output_type": "stream",
          "text": [
            "74491/74491 [==============================] - 5s 65us/sample - loss: 0.0379 - acc: 0.9892\n",
            "Final test loss : 0.037887676574984534, final test accuracy : 0.9892336130142212\n"
          ],
          "name": "stdout"
        }
      ]
    },
    {
      "cell_type": "code",
      "metadata": {
        "id": "PfLvXh73iwLq",
        "colab_type": "code",
        "outputId": "998abd24-0502-4bde-84a8-69dadb5bfff5",
        "colab": {
          "base_uri": "https://localhost:8080/",
          "height": 255
        }
      },
      "source": [
        "#predicting\n",
        "for i in range(8):\n",
        "    plt.subplot(2,4,i+1)\n",
        "    plt.imshow(x_test[i+5].reshape(28,28),cmap='binary')\n",
        "    prob = model.predict(x_test[i+5].reshape(1,28,28,1))\n",
        "    pred = int(np.argmax(prob, axis=1))\n",
        "    response = labels[pred] +\" (\" + str(round(prob[0][pred] * 100,2)) + \" %)\"\n",
        "    plt.title(response)"
      ],
      "execution_count": 0,
      "outputs": [
        {
          "output_type": "display_data",
          "data": {
            "image/png": "[encoded data removed]",
            "text/plain": [
              "<Figure size 432x288 with 8 Axes>"
            ]
          },
          "metadata": {
            "tags": []
          }
        }
      ]
    },
    {
      "cell_type": "code",
      "metadata": {
        "id": "Se8OHACLi1Xc",
        "colab_type": "code",
        "colab": {}
      },
      "source": [
        ""
      ],
      "execution_count": 0,
      "outputs": []
    },
    {
      "cell_type": "code",
      "metadata": {
        "id": "rXh3Kf-NNa0N",
        "colab_type": "code",
        "colab": {}
      },
      "source": [
        ""
      ],
      "execution_count": 0,
      "outputs": []
    },
    {
      "cell_type": "code",
      "metadata": {
        "id": "O0UqbUhQNcv7",
        "colab_type": "code",
        "colab": {}
      },
      "source": [
        ""
      ],
      "execution_count": 0,
      "outputs": []
    },
    {
      "cell_type": "code",
      "metadata": {
        "id": "WouKMosDN2EM",
        "colab_type": "code",
        "colab": {}
      },
      "source": [
        ""
      ],
      "execution_count": 0,
      "outputs": []
    }
  ]
}